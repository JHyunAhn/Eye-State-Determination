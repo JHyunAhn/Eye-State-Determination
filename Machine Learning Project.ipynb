{
 "cells": [
  {
   "cell_type": "code",
   "execution_count": 353,
   "metadata": {},
   "outputs": [],
   "source": [
    "import pandas as pd\n",
    "import numpy as np\n",
    "import matplotlib\n",
    "import matplotlib.pyplot as plt\n",
    "%matplotlib inline\n",
    "from sklearn import linear_model, preprocessing"
   ]
  },
  {
   "cell_type": "code",
   "execution_count": 354,
   "metadata": {},
   "outputs": [],
   "source": [
    "import arff\n",
    "\n",
    "with open(\"EEG Eye State.arff\") as f:\n",
    "    dataDictionary = arff.load(f)\n",
    "    f.close()\n",
    "    \n",
    "arffData = np.array(dataDictionary['data'])\n",
    "## ref https://stackoverflow.com/questions/48573169/how-to-import-csv-or-arff-to-scikit\n"
   ]
  },
  {
   "cell_type": "code",
   "execution_count": 355,
   "metadata": {},
   "outputs": [
    {
     "data": {
      "text/plain": [
       "array([['4324.62', '4004.62', '4293.85', '4148.72', '4342.05', '4586.67',\n",
       "        '4097.44', '4638.97', '4210.77', '4226.67', '4207.69', '4279.49',\n",
       "        '4632.82', '4384.1', '0'],\n",
       "       ['4327.69', '4006.67', '4295.38', '4156.41', '4336.92', '4583.59',\n",
       "        '4096.92', '4630.26', '4207.69', '4222.05', '4206.67', '4282.05',\n",
       "        '4628.72', '4389.23', '0'],\n",
       "       ['4328.72', '4011.79', '4296.41', '4155.9', '4343.59', '4582.56',\n",
       "        '4097.44', '4630.77', '4217.44', '4235.38', '4210.77', '4287.69',\n",
       "        '4632.31', '4396.41', '0'],\n",
       "       ['4326.15', '4011.79', '4292.31', '4151.28', '4347.69', '4586.67',\n",
       "        '4095.9', '4627.69', '4210.77', '4244.1', '4212.82', '4288.21',\n",
       "        '4632.82', '4398.46', '0'],\n",
       "       ['4321.03', '4004.62', '4284.1', '4153.33', '4345.64', '4587.18',\n",
       "        '4093.33', '4616.92', '4202.56', '4232.82', '4209.74', '4281.03',\n",
       "        '4628.21', '4389.74', '0'],\n",
       "       ['4319.49', '4001.03', '4280.51', '4151.79', '4343.59', '4584.62',\n",
       "        '4089.74', '4615.9', '4212.31', '4226.67', '4201.03', '4269.74',\n",
       "        '4625.13', '4378.46', '0'],\n",
       "       ['4325.64', '4006.67', '4278.46', '4143.08', '4344.1', '4583.08',\n",
       "        '4087.18', '4614.87', '4205.64', '4230.26', '4195.9', '4266.67',\n",
       "        '4622.05', '4380.51', '0'],\n",
       "       ['4326.15', '4010.77', '4276.41', '4139.49', '4345.13', '4584.1',\n",
       "        '4091.28', '4608.21', '4187.69', '4229.74', '4202.05', '4273.85',\n",
       "        '4627.18', '4389.74', '0'],\n",
       "       ['4326.15', '4011.28', '4276.92', '4142.05', '4344.1', '4582.56',\n",
       "        '4092.82', '4608.72', '4194.36', '4228.72', '4212.82', '4277.95',\n",
       "        '4637.44', '4393.33', '0']], dtype='<U32')"
      ]
     },
     "execution_count": 355,
     "metadata": {},
     "output_type": "execute_result"
    }
   ],
   "source": [
    "arffData.shape\n",
    "arffData[1:10,:]\n"
   ]
  },
  {
   "cell_type": "code",
   "execution_count": 356,
   "metadata": {},
   "outputs": [],
   "source": [
    "## divide X and y and change data type!\n",
    "X = np.array(arffData[:,0:13]).astype(np.float64)\n",
    "y = np.array(arffData[:,14]).astype(np.int32)"
   ]
  },
  {
   "cell_type": "code",
   "execution_count": 357,
   "metadata": {},
   "outputs": [
    {
     "data": {
      "text/plain": [
       "[<matplotlib.lines.Line2D at 0x1e1bc1458d0>]"
      ]
     },
     "execution_count": 357,
     "metadata": {},
     "output_type": "execute_result"
    },
    {
     "data": {
      "image/png": "[encoded data removed]",
      "text/plain": [
       "<Figure size 432x288 with 1 Axes>"
      ]
     },
     "metadata": {},
     "output_type": "display_data"
    }
   ],
   "source": [
    "plt.plot(y)"
   ]
  },
  {
   "cell_type": "code",
   "execution_count": 358,
   "metadata": {},
   "outputs": [],
   "source": [
    "from sklearn.model_selection import train_test_split\n",
    "\n",
    "trainX, testX , trainy, testy = train_test_split(X,y, test_size= 0.1 , shuffle= False,random_state= 1)\n"
   ]
  },
  {
   "cell_type": "code",
   "execution_count": 359,
   "metadata": {},
   "outputs": [
    {
     "name": "stdout",
     "output_type": "stream",
     "text": [
      "0.4893190921228304\n"
     ]
    }
   ],
   "source": [
    "# K-nearest neighbors -> overall data one time coding\n",
    "from sklearn.metrics import accuracy_score\n",
    "from sklearn.model_selection import train_test_split\n",
    "from sklearn.neighbors import KNeighborsClassifier\n",
    "\n",
    "model = KNeighborsClassifier(n_neighbors =3)\n",
    "\n",
    "model.fit(trainX, trainy)\n",
    "\n",
    "yhat = model.predict(testX)\n",
    "\n",
    "score = accuracy_score(testy, yhat)\n",
    "print(score)\n",
    "\n"
   ]
  },
  {
   "cell_type": "code",
   "execution_count": 360,
   "metadata": {},
   "outputs": [
    {
     "name": "stdout",
     "output_type": "stream",
     "text": [
      "0.9412550066755674\n"
     ]
    }
   ],
   "source": [
    "# k-nearest neighbors ->  to use 3 consecutive input!\n",
    "\n",
    "\n",
    "historyX, historyY = [x for x in trainX] , [x for x in trainy]\n",
    "\n",
    "predictions = []\n",
    "\n",
    "for i in range(len(testy)):\n",
    "    model = KNeighborsClassifier(n_neighbors=3)\n",
    "    \n",
    "    model.fit(np.array(historyX), np.array(historyY))\n",
    "    \n",
    "    yhat = model.predict([testX[i,:]])[0]\n",
    "    \n",
    "    \n",
    "    \n",
    "    predictions.append(yhat)\n",
    "    \n",
    "    historyX.append(testX[i, :].astype(np.float64))\n",
    "    historyY.append(testy[i])\n",
    "    \n",
    "score = accuracy_score(testy, predictions)\n",
    "print(score)\n",
    "        "
   ]
  },
  {
   "cell_type": "code",
   "execution_count": null,
   "metadata": {},
   "outputs": [],
   "source": []
  },
  {
   "cell_type": "code",
   "execution_count": 361,
   "metadata": {},
   "outputs": [
    {
     "name": "stdout",
     "output_type": "stream",
     "text": [
      "0.9412550066755674\n",
      "Accuracy on the training data is 0.941255\n"
     ]
    }
   ],
   "source": [
    "score = accuracy_score(testy, predictions)\n",
    "print(score)\n",
    "pred= np.array(predictions)\n",
    "acc = np.mean(pred == testy)\n",
    "print('Accuracy on the training data is {0:f}'.format(acc))"
   ]
  },
  {
   "cell_type": "code",
   "execution_count": 362,
   "metadata": {},
   "outputs": [
    {
     "name": "stdout",
     "output_type": "stream",
     "text": [
      "fold 0\n",
      "fold 1\n",
      "fold 2\n",
      "fold 3\n",
      "fold 4\n",
      "fold 5\n",
      "fold 6\n",
      "fold 7\n",
      "fold 8\n",
      "fold 9\n"
     ]
    }
   ],
   "source": [
    "## by using n_neighbors, Find the most not useful feature!\n",
    "\n",
    "\n",
    "n_neighbors = np.array([1,2,3,4,5,10,15,20,25,30])\n",
    "\n",
    "\n",
    "\n",
    "acc = np.zeros(len(n_neighbors))\n",
    "\n",
    "for ia, a in enumerate(n_neighbors):\n",
    "    historyX, historyY = [x for x in trainX] , [x for x in trainy]\n",
    "    model = KNeighborsClassifier(n_neighbors= a)\n",
    "    predictions = []\n",
    "    \n",
    "    for i in range(len(testy)):\n",
    "        \n",
    "    \n",
    "        model.fit(np.array(historyX), np.array(historyY))\n",
    "    \n",
    "        yhat = model.predict([testX[i,:]])[0]\n",
    "        \n",
    "    \n",
    "    \n",
    "        predictions.append(yhat)\n",
    "    \n",
    "        historyX.append(testX[i, :].astype(np.float64))\n",
    "        historyY.append(testy[i])\n",
    "    score = accuracy_score(testy, predictions)\n",
    "    acc[ia] = score\n",
    "    print(\"fold %d\"%(ia))\n"
   ]
  },
  {
   "cell_type": "code",
   "execution_count": 363,
   "metadata": {},
   "outputs": [
    {
     "data": {
      "text/plain": [
       "[<matplotlib.lines.Line2D at 0x1e1bebf2a58>]"
      ]
     },
     "execution_count": 363,
     "metadata": {},
     "output_type": "execute_result"
    },
    {
     "data": {
      "image/png": "[encoded data removed]",
      "text/plain": [
       "<Figure size 432x288 with 1 Axes>"
      ]
     },
     "metadata": {},
     "output_type": "display_data"
    }
   ],
   "source": [
    "plt.plot(acc)"
   ]
  },
  {
   "cell_type": "code",
   "execution_count": 364,
   "metadata": {},
   "outputs": [
    {
     "name": "stdout",
     "output_type": "stream",
     "text": [
      "0.9939919893190922\n"
     ]
    }
   ],
   "source": [
    "# making the prediction be impacted by the previous n - sequence data.(n is number of data)\n",
    "historyX, historyY = [x for x in trainX] , [x for x in trainy]\n",
    "# initialize history data\n",
    "predictions = []\n",
    "\n",
    "for i in range(len(testy)):\n",
    "    model = KNeighborsClassifier(n_neighbors=2)\n",
    "    # use the best accruacy result from above experiment.\n",
    "    \n",
    "    model.fit(np.array(historyX), np.array(historyY))\n",
    "    \n",
    "    tmpX, tmpy = np.array(historyX)[-10:,:] , np.array(historyY)[-10:]\n",
    "    # get the previous 10 sequence\n",
    "    model.fit(tmpX,tmpy)\n",
    "    \n",
    "    \n",
    "    \n",
    "    yhat = model.predict([testX[i,:]])[0]\n",
    "    # predict\n",
    "    \n",
    "\n",
    "    \n",
    "    \n",
    "    predictions.append(yhat)\n",
    "    \n",
    "    historyX.append(testX[i, :].astype(np.float64))\n",
    "    historyY.append(testy[i])\n",
    "    # append the test data to train for next prediction\n",
    "score = accuracy_score(testy, predictions)\n",
    "print(score)"
   ]
  },
  {
   "cell_type": "code",
   "execution_count": 365,
   "metadata": {},
   "outputs": [
    {
     "name": "stdout",
     "output_type": "stream",
     "text": [
      "fold 0\n",
      "fold 1\n",
      "fold 2\n",
      "fold 3\n",
      "fold 4\n",
      "fold 5\n",
      "fold 6\n",
      "fold 7\n",
      "fold 8\n"
     ]
    }
   ],
   "source": [
    "# do the iteration to find best range\n",
    "\n",
    "dataSequence = [2,3,4,5,10, 15, 20 ,25 , 30 ]\n",
    "\n",
    "acc = np.zeros(len(dataSequence))\n",
    "\n",
    "for ia, a in enumerate(dataSequence):\n",
    "    historyX, historyY = [x for x in trainX] , [x for x in trainy]\n",
    "    model = KNeighborsClassifier(n_neighbors= 2)\n",
    "    predictions = []\n",
    "    \n",
    "    for i in range(len(testy)):\n",
    "        \n",
    "        tmpX, tmpy = np.array(historyX)[-a:,:] , np.array(historyY)[-a:]\n",
    "        model.fit(tmpX,tmpy)\n",
    "        \n",
    "\n",
    "        yhat = model.predict([testX[i,:]])[0]\n",
    "        \n",
    "    \n",
    "    \n",
    "        predictions.append(yhat)\n",
    "    \n",
    "        historyX.append(testX[i, :].astype(np.float64))\n",
    "        historyY.append(testy[i])\n",
    "    score = accuracy_score(testy, predictions)\n",
    "    acc[ia] = score\n",
    "    print(\"fold %d\"%(ia))"
   ]
  },
  {
   "cell_type": "code",
   "execution_count": 366,
   "metadata": {},
   "outputs": [
    {
     "data": {
      "text/plain": [
       "[<matplotlib.lines.Line2D at 0x1e1bc5c2668>]"
      ]
     },
     "execution_count": 366,
     "metadata": {},
     "output_type": "execute_result"
    },
    {
     "data": {
      "image/png": "[encoded data removed]",
      "text/plain": [
       "<Figure size 432x288 with 1 Axes>"
      ]
     },
     "metadata": {},
     "output_type": "display_data"
    }
   ],
   "source": [
    "plt.plot(acc)"
   ]
  },
  {
   "cell_type": "code",
   "execution_count": null,
   "metadata": {},
   "outputs": [],
   "source": []
  },
  {
   "cell_type": "code",
   "execution_count": null,
   "metadata": {},
   "outputs": [],
   "source": []
  },
  {
   "cell_type": "code",
   "execution_count": 367,
   "metadata": {},
   "outputs": [],
   "source": [
    "## start pytorch\n",
    "\n",
    "import torch\n",
    "import torch.utils.data\n",
    "from torch.autograd import Variable\n",
    "from sklearn import linear_model, preprocessing\n",
    "Xs = preprocessing.scale(trainX)\n",
    "testXs = preprocessing.scale(testX)\n",
    "X_torch = torch.Tensor(Xs)\n",
    "y_torch = torch.Tensor(trainy)\n",
    "Xtest_torch = torch.Tensor(testX)\n",
    "ytest_torch = torch.Tensor(testy)\n",
    "\n",
    "dataset = torch.utils.data.TensorDataset(X_torch,y_torch)\n",
    "loader = torch.utils.data.DataLoader(dataset, batch_size = 100,shuffle=False)\n",
    "testDataset= torch.utils.data.TensorDataset(Xtest_torch,ytest_torch)\n",
    "testloader = torch.utils.data.DataLoader(dataset, batch_size = 100,shuffle=False)\n",
    "\n",
    "        "
   ]
  },
  {
   "cell_type": "code",
   "execution_count": 368,
   "metadata": {},
   "outputs": [],
   "source": [
    "import torch.nn as nn\n",
    "class LSTM(nn.Module):\n",
    "    \n",
    "    def __init__(self, input_dim, hidden_dim, batch_size, output_dim=1,\n",
    "                    num_layers=2):\n",
    "        super(LSTM, self).__init__()\n",
    "        \n",
    "        self.hidden_dim = hidden_dim\n",
    "        self.input_size = input_dim\n",
    "        self.layer_dim = num_layers\n",
    "        self.batch_size = batch_size\n",
    "        # Define the RNN layer\n",
    "        self.linear = nn.Linear(self.input_size, self.hidden_dim)\n",
    "        self.lstm = nn.LSTM( self.hidden_dim , self.hidden_dim, self.layer_dim, batch_first =True ,dropout=0.1)\n",
    "        \n",
    "\n",
    "        # Define the output layer\n",
    "        \n",
    "        self.linear2 = nn.Linear(self.hidden_dim, output_dim)\n",
    "        \n",
    "        self.sigmoid = nn.Sigmoid()\n",
    "    \n",
    "\n",
    "    def forward(self, input):\n",
    "         # Initialize hidden state with zeros\n",
    "        out = self.linear(input)\n",
    "        out, self.hidden = self.lstm(out)\n",
    "        \n",
    "        out = self.sigmoid(self.linear2(out))\n",
    "        \n",
    "        # One time step\n",
    "        \n",
    "        \n",
    "        return out\n",
    "## size 128"
   ]
  },
  {
   "cell_type": "code",
   "execution_count": 369,
   "metadata": {},
   "outputs": [],
   "source": [
    "input_dim = 13\n",
    "hidden_dim = 128\n",
    "\n",
    "model = LSTM(input_dim = input_dim,hidden_dim=hidden_dim , batch_size=100)"
   ]
  },
  {
   "cell_type": "code",
   "execution_count": 373,
   "metadata": {},
   "outputs": [
    {
     "name": "stdout",
     "output_type": "stream",
     "text": [
      "LSTM(\n",
      "  (linear): Linear(in_features=13, out_features=128, bias=True)\n",
      "  (lstm): LSTM(128, 128, num_layers=2, batch_first=True, dropout=0.1)\n",
      "  (linear2): Linear(in_features=128, out_features=1, bias=True)\n",
      "  (sigmoid): Sigmoid()\n",
      ")\n"
     ]
    }
   ],
   "source": [
    "import torch.optim as optim\n",
    "\n",
    "opt = optim.Adam(model.parameters(), lr = 0.001)\n",
    "criterion = nn.BCELoss()\n",
    "print(str(model))"
   ]
  },
  {
   "cell_type": "markdown",
   "metadata": {},
   "source": []
  },
  {
   "cell_type": "code",
   "execution_count": 376,
   "metadata": {},
   "outputs": [
    {
     "name": "stderr",
     "output_type": "stream",
     "text": [
      "D:\\Program Files (x86)\\Microsoft Visual Studio\\Shared\\Anaconda3_64\\lib\\site-packages\\torch\\nn\\functional.py:2016: UserWarning: Using a target size (torch.Size([100, 1])) that is different to the input size (torch.Size([1, 100, 1])) is deprecated. Please ensure they have the same size.\n",
      "  \"Please ensure they have the same size.\".format(target.size(), input.size()))\n",
      "D:\\Program Files (x86)\\Microsoft Visual Studio\\Shared\\Anaconda3_64\\lib\\site-packages\\torch\\nn\\functional.py:2016: UserWarning: Using a target size (torch.Size([82, 1])) that is different to the input size (torch.Size([1, 82, 1])) is deprecated. Please ensure they have the same size.\n",
      "  \"Please ensure they have the same size.\".format(target.size(), input.size()))\n"
     ]
    },
    {
     "name": "stdout",
     "output_type": "stream",
     "text": [
      "fold 0 ->acc= 83.845123 , loss = 0.352630 \n",
      "fold 1 ->acc= 85.565933 , loss = 0.331849 \n",
      "fold 2 ->acc= 85.017059 , loss = 0.324784 \n",
      "fold 3 ->acc= 86.567276 , loss = 0.300740 \n",
      "fold 4 ->acc= 86.537605 , loss = 0.285856 \n",
      "fold 5 ->acc= 88.992729 , loss = 0.264820 \n",
      "fold 6 ->acc= 89.593529 , loss = 0.243706 \n",
      "fold 7 ->acc= 88.940811 , loss = 0.242477 \n",
      "fold 8 ->acc= 89.096573 , loss = 0.243201 \n",
      "fold 9 ->acc= 88.466103 , loss = 0.257278 \n",
      "fold 10 ->acc= 90.157249 , loss = 0.239722 \n",
      "fold 11 ->acc= 89.103989 , loss = 0.239060 \n",
      "fold 12 ->acc= 89.333931 , loss = 0.208814 \n",
      "fold 13 ->acc= 89.875389 , loss = 0.215996 \n",
      "fold 14 ->acc= 88.021065 , loss = 0.228032 \n",
      "fold 15 ->acc= 90.617119 , loss = 0.205273 \n",
      "fold 16 ->acc= 90.765465 , loss = 0.211090 \n",
      "fold 17 ->acc= 93.317017 , loss = 0.160056 \n",
      "fold 18 ->acc= 91.655540 , loss = 0.197022 \n",
      "fold 19 ->acc= 94.058746 , loss = 0.142617 \n",
      "fold 20 ->acc= 93.917816 , loss = 0.147767 \n",
      "fold 21 ->acc= 93.220589 , loss = 0.150699 \n",
      "fold 22 ->acc= 92.812637 , loss = 0.169087 \n",
      "fold 23 ->acc= 94.325768 , loss = 0.118719 \n",
      "fold 24 ->acc= 94.696632 , loss = 0.106199 \n",
      "fold 25 ->acc= 91.759384 , loss = 0.279647 \n",
      "fold 26 ->acc= 92.182175 , loss = 0.212702 \n",
      "fold 27 ->acc= 93.087074 , loss = 0.153754 \n",
      "fold 28 ->acc= 93.049988 , loss = 0.152646 \n",
      "fold 29 ->acc= 94.162590 , loss = 0.135920 \n",
      "fold 30 ->acc= 95.416107 , loss = 0.103121 \n",
      "fold 31 ->acc= 94.043907 , loss = 0.143539 \n",
      "fold 32 ->acc= 95.052666 , loss = 0.125644 \n",
      "fold 33 ->acc= 94.177422 , loss = 0.121980 \n",
      "fold 34 ->acc= 91.232750 , loss = 0.205791 \n",
      "fold 35 ->acc= 94.644714 , loss = 0.123347 \n",
      "fold 36 ->acc= 95.341942 , loss = 0.103308 \n",
      "fold 37 ->acc= 95.082329 , loss = 0.105553 \n",
      "fold 38 ->acc= 96.580627 , loss = 0.082869 \n",
      "fold 39 ->acc= 96.476784 , loss = 0.081343 \n",
      "fold 40 ->acc= 96.150421 , loss = 0.078265 \n",
      "fold 41 ->acc= 94.755974 , loss = 0.133483 \n",
      "fold 42 ->acc= 95.972404 , loss = 0.095188 \n",
      "fold 43 ->acc= 95.987244 , loss = 0.090307 \n",
      "fold 44 ->acc= 97.240761 , loss = 0.064665 \n",
      "fold 45 ->acc= 97.322357 , loss = 0.071607 \n",
      "fold 46 ->acc= 94.978485 , loss = 0.119934 \n",
      "fold 47 ->acc= 94.815308 , loss = 0.212881 \n",
      "fold 48 ->acc= 92.449188 , loss = 0.239247 \n",
      "fold 49 ->acc= 93.176086 , loss = 0.189301 \n",
      "fold 50 ->acc= 96.180092 , loss = 0.096007 \n",
      "fold 51 ->acc= 96.410027 , loss = 0.087241 \n",
      "fold 52 ->acc= 96.076248 , loss = 0.111840 \n",
      "fold 53 ->acc= 97.314934 , loss = 0.069055 \n",
      "fold 54 ->acc= 97.626465 , loss = 0.062355 \n",
      "fold 55 ->acc= 96.469368 , loss = 0.092227 \n",
      "fold 56 ->acc= 97.381691 , loss = 0.067737 \n",
      "fold 57 ->acc= 98.041832 , loss = 0.055409 \n",
      "fold 58 ->acc= 98.078918 , loss = 0.050010 \n",
      "fold 59 ->acc= 98.464622 , loss = 0.041893 \n",
      "fold 60 ->acc= 98.264351 , loss = 0.043962 \n",
      "fold 61 ->acc= 98.138260 , loss = 0.046979 \n",
      "fold 62 ->acc= 98.879990 , loss = 0.033228 \n",
      "fold 63 ->acc= 98.620384 , loss = 0.038484 \n",
      "fold 64 ->acc= 96.461952 , loss = 0.078777 \n",
      "fold 65 ->acc= 96.417442 , loss = 0.097524 \n",
      "fold 66 ->acc= 98.442368 , loss = 0.042379 \n",
      "fold 67 ->acc= 98.813232 , loss = 0.035437 \n",
      "fold 68 ->acc= 98.538795 , loss = 0.038922 \n",
      "fold 69 ->acc= 97.834152 , loss = 0.042877 \n",
      "fold 70 ->acc= 98.301437 , loss = 0.039054 \n",
      "fold 71 ->acc= 98.101173 , loss = 0.048539 \n",
      "fold 72 ->acc= 95.712807 , loss = 0.120989 \n",
      "fold 73 ->acc= 98.642639 , loss = 0.040005 \n",
      "fold 74 ->acc= 95.890823 , loss = 0.111871 \n",
      "fold 75 ->acc= 92.723633 , loss = 0.192519 \n"
     ]
    },
    {
     "ename": "KeyboardInterrupt",
     "evalue": "",
     "output_type": "error",
     "traceback": [
      "\u001b[1;31m---------------------------------------------------------------------------\u001b[0m",
      "\u001b[1;31mKeyboardInterrupt\u001b[0m                         Traceback (most recent call last)",
      "\u001b[1;32m<ipython-input-376-211b905f1962>\u001b[0m in \u001b[0;36m<module>\u001b[1;34m()\u001b[0m\n\u001b[0;32m     18\u001b[0m \u001b[1;33m\u001b[0m\u001b[0m\n\u001b[0;32m     19\u001b[0m         \u001b[0mopt\u001b[0m\u001b[1;33m.\u001b[0m\u001b[0mzero_grad\u001b[0m\u001b[1;33m(\u001b[0m\u001b[1;33m)\u001b[0m\u001b[1;33m\u001b[0m\u001b[0m\n\u001b[1;32m---> 20\u001b[1;33m         \u001b[0mloss\u001b[0m\u001b[1;33m.\u001b[0m\u001b[0mbackward\u001b[0m\u001b[1;33m(\u001b[0m\u001b[1;33m)\u001b[0m\u001b[1;33m\u001b[0m\u001b[0m\n\u001b[0m\u001b[0;32m     21\u001b[0m \u001b[1;33m\u001b[0m\u001b[0m\n\u001b[0;32m     22\u001b[0m         \u001b[0mopt\u001b[0m\u001b[1;33m.\u001b[0m\u001b[0mstep\u001b[0m\u001b[1;33m(\u001b[0m\u001b[1;33m)\u001b[0m\u001b[1;33m\u001b[0m\u001b[0m\n",
      "\u001b[1;32mD:\\Program Files (x86)\\Microsoft Visual Studio\\Shared\\Anaconda3_64\\lib\\site-packages\\torch\\tensor.py\u001b[0m in \u001b[0;36mbackward\u001b[1;34m(self, gradient, retain_graph, create_graph)\u001b[0m\n\u001b[0;32m    100\u001b[0m                 \u001b[0mproducts\u001b[0m\u001b[1;33m.\u001b[0m \u001b[0mDefaults\u001b[0m \u001b[0mto\u001b[0m\u001b[0;31m \u001b[0m\u001b[0;31m`\u001b[0m\u001b[0;31m`\u001b[0m\u001b[1;32mFalse\u001b[0m\u001b[0;31m`\u001b[0m\u001b[0;31m`\u001b[0m\u001b[1;33m.\u001b[0m\u001b[1;33m\u001b[0m\u001b[0m\n\u001b[0;32m    101\u001b[0m         \"\"\"\n\u001b[1;32m--> 102\u001b[1;33m         \u001b[0mtorch\u001b[0m\u001b[1;33m.\u001b[0m\u001b[0mautograd\u001b[0m\u001b[1;33m.\u001b[0m\u001b[0mbackward\u001b[0m\u001b[1;33m(\u001b[0m\u001b[0mself\u001b[0m\u001b[1;33m,\u001b[0m \u001b[0mgradient\u001b[0m\u001b[1;33m,\u001b[0m \u001b[0mretain_graph\u001b[0m\u001b[1;33m,\u001b[0m \u001b[0mcreate_graph\u001b[0m\u001b[1;33m)\u001b[0m\u001b[1;33m\u001b[0m\u001b[0m\n\u001b[0m\u001b[0;32m    103\u001b[0m \u001b[1;33m\u001b[0m\u001b[0m\n\u001b[0;32m    104\u001b[0m     \u001b[1;32mdef\u001b[0m \u001b[0mregister_hook\u001b[0m\u001b[1;33m(\u001b[0m\u001b[0mself\u001b[0m\u001b[1;33m,\u001b[0m \u001b[0mhook\u001b[0m\u001b[1;33m)\u001b[0m\u001b[1;33m:\u001b[0m\u001b[1;33m\u001b[0m\u001b[0m\n",
      "\u001b[1;32mD:\\Program Files (x86)\\Microsoft Visual Studio\\Shared\\Anaconda3_64\\lib\\site-packages\\torch\\autograd\\__init__.py\u001b[0m in \u001b[0;36mbackward\u001b[1;34m(tensors, grad_tensors, retain_graph, create_graph, grad_variables)\u001b[0m\n\u001b[0;32m     88\u001b[0m     Variable._execution_engine.run_backward(\n\u001b[0;32m     89\u001b[0m         \u001b[0mtensors\u001b[0m\u001b[1;33m,\u001b[0m \u001b[0mgrad_tensors\u001b[0m\u001b[1;33m,\u001b[0m \u001b[0mretain_graph\u001b[0m\u001b[1;33m,\u001b[0m \u001b[0mcreate_graph\u001b[0m\u001b[1;33m,\u001b[0m\u001b[1;33m\u001b[0m\u001b[0m\n\u001b[1;32m---> 90\u001b[1;33m         allow_unreachable=True)  # allow_unreachable flag\n\u001b[0m\u001b[0;32m     91\u001b[0m \u001b[1;33m\u001b[0m\u001b[0m\n\u001b[0;32m     92\u001b[0m \u001b[1;33m\u001b[0m\u001b[0m\n",
      "\u001b[1;31mKeyboardInterrupt\u001b[0m: "
     ]
    }
   ],
   "source": [
    "num_epoch = 75\n",
    "\n",
    "a_loss = np.zeros([num_epoch])\n",
    "a_accuracy = np.zeros([num_epoch])\n",
    "\n",
    "for epoch in range(num_epoch):\n",
    "    error = 0\n",
    "    total = 0\n",
    "    batch_loss = []\n",
    "    for batch, data in enumerate(loader):\n",
    "        x_batch,y_batch = data\n",
    "        x_batch = x_batch.view(1,x_batch.shape[0],13)\n",
    "        y_batch = y_batch.view(-1,1)\n",
    "        out = model(x_batch)\n",
    "        \n",
    "        loss= criterion(out,y_batch)\n",
    "        batch_loss.append(loss.item())\n",
    "        \n",
    "        opt.zero_grad()\n",
    "        loss.backward()\n",
    "        \n",
    "        opt.step()\n",
    "        \n",
    "        \n",
    "        guess = out.round()\n",
    "        error += torch.sum(torch.abs(guess-y_batch))\n",
    "        total += len(y_batch)\n",
    "        \n",
    "    accuracy = 100*(1-error/total)\n",
    "    a_loss[epoch] = np.mean(batch_loss)\n",
    "    a_accuracy[epoch] = accuracy\n",
    "    print(\"fold %d ->acc= %f , loss = %f \"%(epoch,a_accuracy[epoch] , a_loss[epoch]))\n"
   ]
  },
  {
   "cell_type": "code",
   "execution_count": 377,
   "metadata": {},
   "outputs": [
    {
     "data": {
      "text/plain": [
       "[<matplotlib.lines.Line2D at 0x1e22e336a90>]"
      ]
     },
     "execution_count": 377,
     "metadata": {},
     "output_type": "execute_result"
    },
    {
     "data": {
      "image/png": "[encoded data removed]",
      "text/plain": [
       "<Figure size 432x288 with 1 Axes>"
      ]
     },
     "metadata": {},
     "output_type": "display_data"
    }
   ],
   "source": [
    "plt.plot(a_accuracy)"
   ]
  },
  {
   "cell_type": "code",
   "execution_count": 378,
   "metadata": {},
   "outputs": [
    {
     "name": "stdout",
     "output_type": "stream",
     "text": [
      "acc in test data = 96.654800 \n"
     ]
    }
   ],
   "source": [
    "# predict the test data\n",
    "error =0\n",
    "total = 0\n",
    "acc = 0\n",
    "\n",
    "with torch.no_grad():\n",
    "    for data in testloader:\n",
    "        x_batch,y_batch = data\n",
    "        x_batch = x_batch.view(1,x_batch.shape[0],13)\n",
    "        y_batch = y_batch.view(-1,1)\n",
    "        out = model(x_batch)\n",
    "        guess = out.round()\n",
    "        error += torch.sum(torch.abs(guess-y_batch))\n",
    "        total += len(y_batch)\n",
    "        \n",
    "    accuracy = 100*(1-error/total)\n",
    "    \n",
    "    acc = accuracy\n",
    "    print(\"acc in test data = %f \"%(acc))"
   ]
  },
  {
   "cell_type": "code",
   "execution_count": null,
   "metadata": {},
   "outputs": [],
   "source": []
  }
 ],
 "metadata": {
  "kernelspec": {
   "display_name": "Python 3",
   "language": "python",
   "name": "python3"
  },
  "language_info": {
   "codemirror_mode": {
    "name": "ipython",
    "version": 3
   },
   "file_extension": ".py",
   "mimetype": "text/x-python",
   "name": "python",
   "nbconvert_exporter": "python",
   "pygments_lexer": "ipython3",
   "version": "3.6.4"
  }
 },
 "nbformat": 4,
 "nbformat_minor": 2
}
